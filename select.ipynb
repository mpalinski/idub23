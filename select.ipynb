{
  "cells": [
    {
      "cell_type": "code",
      "execution_count": null,
      "id": "a30bd75b",
      "metadata": {
        "id": "a30bd75b"
      },
      "outputs": [],
      "source": [
        "import numpy as np\n",
        "import pandas as pd\n",
        "import openpyxl\n",
        "from openpyxl import load_workbook"
      ]
    },
    {
      "cell_type": "code",
      "execution_count": null,
      "id": "93f605b3",
      "metadata": {
        "id": "93f605b3"
      },
      "outputs": [],
      "source": [
        "site='forbes'"
      ]
    },
    {
      "cell_type": "code",
      "execution_count": null,
      "id": "c7bae946",
      "metadata": {
        "id": "c7bae946"
      },
      "outputs": [],
      "source": [
        "excel_file = f'./articles/{site}.xlsx' \n",
        "wb = load_workbook(excel_file, data_only = True)\n",
        "sh = wb['Sheet1']\n",
        "# extract color from column A.\n",
        "w = [cell.fill.start_color.index for cell in sh['W:W']]\n",
        "x = [cell.fill.start_color.index for cell in sh['X:X']]\n",
        "y = [cell.fill.start_color.index for cell in sh['Y:Y']]\n",
        "z = [cell.fill.start_color.index for cell in sh['Z:Z']]\n",
        "aa = [cell.fill.start_color.index for cell in sh['AA:AA']]"
      ]
    },
    {
      "cell_type": "code",
      "execution_count": null,
      "id": "ef8f20d5",
      "metadata": {
        "id": "ef8f20d5"
      },
      "outputs": [],
      "source": [
        "columns = next(sh.values)[0:]"
      ]
    },
    {
      "cell_type": "code",
      "execution_count": null,
      "id": "f14110ee",
      "metadata": {
        "id": "f14110ee"
      },
      "outputs": [],
      "source": [
        "df = pd.DataFrame(sh.values,columns=columns)"
      ]
    },
    {
      "cell_type": "code",
      "execution_count": null,
      "id": "9484cde7",
      "metadata": {
        "id": "9484cde7"
      },
      "outputs": [],
      "source": [
        "df=df.iloc[1:]"
      ]
    },
    {
      "cell_type": "code",
      "execution_count": null,
      "id": "e3e6e046",
      "metadata": {
        "id": "e3e6e046"
      },
      "outputs": [],
      "source": [
        "df['c1']=w[1:]\n",
        "df['c2']=x[1:]\n",
        "df['c3']=y[1:]\n",
        "df['c4']=z[1:]\n",
        "df['c5']=aa[1:]"
      ]
    },
    {
      "cell_type": "code",
      "execution_count": null,
      "id": "d5d41b6e",
      "metadata": {
        "id": "d5d41b6e"
      },
      "outputs": [],
      "source": [
        "df=df.dropna(subset=['id'])"
      ]
    },
    {
      "cell_type": "code",
      "execution_count": null,
      "id": "ec67f1f6",
      "metadata": {
        "id": "ec67f1f6"
      },
      "outputs": [],
      "source": [
        "df['sel']=np.where(df[['sustainability','mobility','migration','equality','accessibility']].sum(axis=1)>=1,1,0)"
      ]
    },
    {
      "cell_type": "code",
      "execution_count": null,
      "id": "0caaefc1",
      "metadata": {
        "id": "0caaefc1"
      },
      "outputs": [],
      "source": [
        "df[['c1','c2','c3','c4','c5']]=df[['c1','c2','c3','c4','c5']].replace({'00000000':0,'FFB7E1CD':1,'FF00FF00':1})"
      ]
    },
    {
      "cell_type": "code",
      "execution_count": null,
      "id": "879c4a9b",
      "metadata": {
        "id": "879c4a9b"
      },
      "outputs": [],
      "source": [
        "df['col']=np.where(df[['c1','c2','c3','c4','c5']].sum(axis=1)>=1,1,0)"
      ]
    },
    {
      "cell_type": "code",
      "execution_count": null,
      "id": "9dc52cbe",
      "metadata": {
        "id": "9dc52cbe"
      },
      "outputs": [],
      "source": [
        "df['selfin']=np.where((df[['sel','col']].sum(axis=1)>=1)&(df['url']),1,0)"
      ]
    },
    {
      "cell_type": "code",
      "execution_count": null,
      "id": "d84db822",
      "metadata": {
        "id": "d84db822"
      },
      "outputs": [],
      "source": [
        "df[df['selfin']==1].sample(n=10,random_state=2).to_excel(f'./articles/selected/{site}_selected.xlsx')"
      ]
    },
    {
      "cell_type": "code",
      "execution_count": null,
      "id": "8a1f998d",
      "metadata": {
        "id": "8a1f998d",
        "outputId": "e3871890-e44a-41f1-d064-24cd218cf9aa"
      },
      "outputs": [
        {
          "data": {
            "text/html": [
              "<div>\n",
              "<style scoped>\n",
              "    .dataframe tbody tr th:only-of-type {\n",
              "        vertical-align: middle;\n",
              "    }\n",
              "\n",
              "    .dataframe tbody tr th {\n",
              "        vertical-align: top;\n",
              "    }\n",
              "\n",
              "    .dataframe thead th {\n",
              "        text-align: right;\n",
              "    }\n",
              "</style>\n",
              "<table border=\"1\" class=\"dataframe\">\n",
              "  <thead>\n",
              "    <tr style=\"text-align: right;\">\n",
              "      <th></th>\n",
              "      <th>NaN</th>\n",
              "      <th>Unnamed: 0</th>\n",
              "      <th>Unnamed: 0.1</th>\n",
              "      <th>Unnamed: 0.1.1</th>\n",
              "      <th>entities</th>\n",
              "      <th>id</th>\n",
              "      <th>public_metrics</th>\n",
              "      <th>reply_settings</th>\n",
              "      <th>author_id</th>\n",
              "      <th>conversation_id</th>\n",
              "      <th>...</th>\n",
              "      <th>equality</th>\n",
              "      <th>accessibility</th>\n",
              "      <th>c1</th>\n",
              "      <th>c2</th>\n",
              "      <th>c3</th>\n",
              "      <th>c4</th>\n",
              "      <th>c5</th>\n",
              "      <th>sel</th>\n",
              "      <th>col</th>\n",
              "      <th>selfin</th>\n",
              "    </tr>\n",
              "  </thead>\n",
              "  <tbody>\n",
              "    <tr>\n",
              "      <th>35</th>\n",
              "      <td>15780.0</td>\n",
              "      <td>15780.0</td>\n",
              "      <td>19332.0</td>\n",
              "      <td>90.0</td>\n",
              "      <td>{'urls': [{'start': 232, 'end': 255, 'url': 'h...</td>\n",
              "      <td>1295131338408955904.0</td>\n",
              "      <td>{'retweet_count': 0, 'reply_count': 0, 'like_c...</td>\n",
              "      <td>everyone</td>\n",
              "      <td>1027830048496050048.0</td>\n",
              "      <td>1295131338408955904.0</td>\n",
              "      <td>...</td>\n",
              "      <td>False</td>\n",
              "      <td>False</td>\n",
              "      <td>0</td>\n",
              "      <td>0</td>\n",
              "      <td>0</td>\n",
              "      <td>0</td>\n",
              "      <td>0</td>\n",
              "      <td>1</td>\n",
              "      <td>0</td>\n",
              "      <td>1</td>\n",
              "    </tr>\n",
              "    <tr>\n",
              "      <th>75</th>\n",
              "      <td>135142.0</td>\n",
              "      <td>39728.0</td>\n",
              "      <td>68015.0</td>\n",
              "      <td>37.0</td>\n",
              "      <td>{'annotations': [{'start': 0, 'end': 4, 'proba...</td>\n",
              "      <td>1290274615835495936.0</td>\n",
              "      <td>{'retweet_count': 4, 'reply_count': 0, 'like_c...</td>\n",
              "      <td>everyone</td>\n",
              "      <td>1276177187322946048.0</td>\n",
              "      <td>1290274615835495936.0</td>\n",
              "      <td>...</td>\n",
              "      <td>False</td>\n",
              "      <td>False</td>\n",
              "      <td>0</td>\n",
              "      <td>0</td>\n",
              "      <td>0</td>\n",
              "      <td>0</td>\n",
              "      <td>0</td>\n",
              "      <td>1</td>\n",
              "      <td>0</td>\n",
              "      <td>1</td>\n",
              "    </tr>\n",
              "    <tr>\n",
              "      <th>38</th>\n",
              "      <td>89591.0</td>\n",
              "      <td>89591.0</td>\n",
              "      <td>114296.0</td>\n",
              "      <td>24.0</td>\n",
              "      <td>{'hashtags': [{'start': 199, 'end': 211, 'tag'...</td>\n",
              "      <td>1273901921389228032.0</td>\n",
              "      <td>{'retweet_count': 0, 'reply_count': 0, 'like_c...</td>\n",
              "      <td>everyone</td>\n",
              "      <td>999625571188518784.0</td>\n",
              "      <td>1273901921389228032.0</td>\n",
              "      <td>...</td>\n",
              "      <td>False</td>\n",
              "      <td>False</td>\n",
              "      <td>0</td>\n",
              "      <td>0</td>\n",
              "      <td>0</td>\n",
              "      <td>0</td>\n",
              "      <td>0</td>\n",
              "      <td>1</td>\n",
              "      <td>0</td>\n",
              "      <td>1</td>\n",
              "    </tr>\n",
              "    <tr>\n",
              "      <th>32</th>\n",
              "      <td>73844.0</td>\n",
              "      <td>73844.0</td>\n",
              "      <td>94676.0</td>\n",
              "      <td>54.0</td>\n",
              "      <td>{'urls': [{'start': 242, 'end': 265, 'url': 'h...</td>\n",
              "      <td>1395405260001219072.0</td>\n",
              "      <td>{'retweet_count': 3, 'reply_count': 0, 'like_c...</td>\n",
              "      <td>everyone</td>\n",
              "      <td>144494566.0</td>\n",
              "      <td>1395405260001219072.0</td>\n",
              "      <td>...</td>\n",
              "      <td>False</td>\n",
              "      <td>False</td>\n",
              "      <td>0</td>\n",
              "      <td>0</td>\n",
              "      <td>0</td>\n",
              "      <td>0</td>\n",
              "      <td>0</td>\n",
              "      <td>1</td>\n",
              "      <td>0</td>\n",
              "      <td>1</td>\n",
              "    </tr>\n",
              "    <tr>\n",
              "      <th>42</th>\n",
              "      <td>96237.0</td>\n",
              "      <td>823.0</td>\n",
              "      <td>961.0</td>\n",
              "      <td>63.0</td>\n",
              "      <td>{'annotations': [{'start': 80, 'end': 90, 'pro...</td>\n",
              "      <td>1509968028221509888.0</td>\n",
              "      <td>{'retweet_count': 8, 'reply_count': 3, 'like_c...</td>\n",
              "      <td>everyone</td>\n",
              "      <td>59469228.0</td>\n",
              "      <td>1509968028221509888.0</td>\n",
              "      <td>...</td>\n",
              "      <td>False</td>\n",
              "      <td>False</td>\n",
              "      <td>0</td>\n",
              "      <td>0</td>\n",
              "      <td>0</td>\n",
              "      <td>0</td>\n",
              "      <td>0</td>\n",
              "      <td>1</td>\n",
              "      <td>0</td>\n",
              "      <td>1</td>\n",
              "    </tr>\n",
              "    <tr>\n",
              "      <th>30</th>\n",
              "      <td>105614.0</td>\n",
              "      <td>10200.0</td>\n",
              "      <td>13087.0</td>\n",
              "      <td>26.0</td>\n",
              "      <td>{'hashtags': [{'start': 51, 'end': 63, 'tag': ...</td>\n",
              "      <td>1240200441184517888.0</td>\n",
              "      <td>{'retweet_count': 0, 'reply_count': 0, 'like_c...</td>\n",
              "      <td>everyone</td>\n",
              "      <td>728441661429141504.0</td>\n",
              "      <td>1240200441184517888.0</td>\n",
              "      <td>...</td>\n",
              "      <td>False</td>\n",
              "      <td>False</td>\n",
              "      <td>0</td>\n",
              "      <td>0</td>\n",
              "      <td>0</td>\n",
              "      <td>0</td>\n",
              "      <td>0</td>\n",
              "      <td>1</td>\n",
              "      <td>0</td>\n",
              "      <td>1</td>\n",
              "    </tr>\n",
              "    <tr>\n",
              "      <th>14</th>\n",
              "      <td>79942.0</td>\n",
              "      <td>79942.0</td>\n",
              "      <td>101960.0</td>\n",
              "      <td>21.0</td>\n",
              "      <td>{'mentions': [{'start': 17, 'end': 24, 'userna...</td>\n",
              "      <td>1356276004000567040.0</td>\n",
              "      <td>{'retweet_count': 0, 'reply_count': 0, 'like_c...</td>\n",
              "      <td>everyone</td>\n",
              "      <td>2405801429.0</td>\n",
              "      <td>1356276004000567040.0</td>\n",
              "      <td>...</td>\n",
              "      <td>False</td>\n",
              "      <td>False</td>\n",
              "      <td>0</td>\n",
              "      <td>0</td>\n",
              "      <td>0</td>\n",
              "      <td>0</td>\n",
              "      <td>0</td>\n",
              "      <td>1</td>\n",
              "      <td>0</td>\n",
              "      <td>1</td>\n",
              "    </tr>\n",
              "    <tr>\n",
              "      <th>1</th>\n",
              "      <td>43860.0</td>\n",
              "      <td>43860.0</td>\n",
              "      <td>57516.0</td>\n",
              "      <td>29.0</td>\n",
              "      <td>{'urls': [{'start': 225, 'end': 248, 'url': 'h...</td>\n",
              "      <td>1521124903793082112.0</td>\n",
              "      <td>{'retweet_count': 4, 'reply_count': 0, 'like_c...</td>\n",
              "      <td>everyone</td>\n",
              "      <td>301136994.0</td>\n",
              "      <td>1521124903793082112.0</td>\n",
              "      <td>...</td>\n",
              "      <td>False</td>\n",
              "      <td>False</td>\n",
              "      <td>0</td>\n",
              "      <td>0</td>\n",
              "      <td>0</td>\n",
              "      <td>0</td>\n",
              "      <td>0</td>\n",
              "      <td>1</td>\n",
              "      <td>0</td>\n",
              "      <td>1</td>\n",
              "    </tr>\n",
              "    <tr>\n",
              "      <th>62</th>\n",
              "      <td>74558.0</td>\n",
              "      <td>74558.0</td>\n",
              "      <td>95502.0</td>\n",
              "      <td>88.0</td>\n",
              "      <td>{'urls': [{'start': 148, 'end': 171, 'url': 'h...</td>\n",
              "      <td>1390788536559836928.0</td>\n",
              "      <td>{'retweet_count': 0, 'reply_count': 0, 'like_c...</td>\n",
              "      <td>everyone</td>\n",
              "      <td>1371070729.0</td>\n",
              "      <td>1390788536559836928.0</td>\n",
              "      <td>...</td>\n",
              "      <td>False</td>\n",
              "      <td>False</td>\n",
              "      <td>0</td>\n",
              "      <td>0</td>\n",
              "      <td>0</td>\n",
              "      <td>0</td>\n",
              "      <td>0</td>\n",
              "      <td>1</td>\n",
              "      <td>0</td>\n",
              "      <td>1</td>\n",
              "    </tr>\n",
              "    <tr>\n",
              "      <th>57</th>\n",
              "      <td>15932.0</td>\n",
              "      <td>15932.0</td>\n",
              "      <td>19500.0</td>\n",
              "      <td>59.0</td>\n",
              "      <td>{'urls': [{'start': 76, 'end': 99, 'url': 'htt...</td>\n",
              "      <td>1293032649884200960.0</td>\n",
              "      <td>{'retweet_count': 4, 'reply_count': 2, 'like_c...</td>\n",
              "      <td>everyone</td>\n",
              "      <td>62859704.0</td>\n",
              "      <td>1293032649884200960.0</td>\n",
              "      <td>...</td>\n",
              "      <td>False</td>\n",
              "      <td>False</td>\n",
              "      <td>0</td>\n",
              "      <td>1</td>\n",
              "      <td>0</td>\n",
              "      <td>0</td>\n",
              "      <td>0</td>\n",
              "      <td>0</td>\n",
              "      <td>1</td>\n",
              "      <td>1</td>\n",
              "    </tr>\n",
              "  </tbody>\n",
              "</table>\n",
              "<p>10 rows × 35 columns</p>\n",
              "</div>"
            ],
            "text/plain": [
              "         NaN Unnamed: 0 Unnamed: 0.1 Unnamed: 0.1.1  \\\n",
              "35   15780.0    15780.0      19332.0           90.0   \n",
              "75  135142.0    39728.0      68015.0           37.0   \n",
              "38   89591.0    89591.0     114296.0           24.0   \n",
              "32   73844.0    73844.0      94676.0           54.0   \n",
              "42   96237.0      823.0        961.0           63.0   \n",
              "30  105614.0    10200.0      13087.0           26.0   \n",
              "14   79942.0    79942.0     101960.0           21.0   \n",
              "1    43860.0    43860.0      57516.0           29.0   \n",
              "62   74558.0    74558.0      95502.0           88.0   \n",
              "57   15932.0    15932.0      19500.0           59.0   \n",
              "\n",
              "                                             entities                     id  \\\n",
              "35  {'urls': [{'start': 232, 'end': 255, 'url': 'h...  1295131338408955904.0   \n",
              "75  {'annotations': [{'start': 0, 'end': 4, 'proba...  1290274615835495936.0   \n",
              "38  {'hashtags': [{'start': 199, 'end': 211, 'tag'...  1273901921389228032.0   \n",
              "32  {'urls': [{'start': 242, 'end': 265, 'url': 'h...  1395405260001219072.0   \n",
              "42  {'annotations': [{'start': 80, 'end': 90, 'pro...  1509968028221509888.0   \n",
              "30  {'hashtags': [{'start': 51, 'end': 63, 'tag': ...  1240200441184517888.0   \n",
              "14  {'mentions': [{'start': 17, 'end': 24, 'userna...  1356276004000567040.0   \n",
              "1   {'urls': [{'start': 225, 'end': 248, 'url': 'h...  1521124903793082112.0   \n",
              "62  {'urls': [{'start': 148, 'end': 171, 'url': 'h...  1390788536559836928.0   \n",
              "57  {'urls': [{'start': 76, 'end': 99, 'url': 'htt...  1293032649884200960.0   \n",
              "\n",
              "                                       public_metrics reply_settings  \\\n",
              "35  {'retweet_count': 0, 'reply_count': 0, 'like_c...       everyone   \n",
              "75  {'retweet_count': 4, 'reply_count': 0, 'like_c...       everyone   \n",
              "38  {'retweet_count': 0, 'reply_count': 0, 'like_c...       everyone   \n",
              "32  {'retweet_count': 3, 'reply_count': 0, 'like_c...       everyone   \n",
              "42  {'retweet_count': 8, 'reply_count': 3, 'like_c...       everyone   \n",
              "30  {'retweet_count': 0, 'reply_count': 0, 'like_c...       everyone   \n",
              "14  {'retweet_count': 0, 'reply_count': 0, 'like_c...       everyone   \n",
              "1   {'retweet_count': 4, 'reply_count': 0, 'like_c...       everyone   \n",
              "62  {'retweet_count': 0, 'reply_count': 0, 'like_c...       everyone   \n",
              "57  {'retweet_count': 4, 'reply_count': 2, 'like_c...       everyone   \n",
              "\n",
              "                author_id        conversation_id  ... equality accessibility  \\\n",
              "35  1027830048496050048.0  1295131338408955904.0  ...    False         False   \n",
              "75  1276177187322946048.0  1290274615835495936.0  ...    False         False   \n",
              "38   999625571188518784.0  1273901921389228032.0  ...    False         False   \n",
              "32            144494566.0  1395405260001219072.0  ...    False         False   \n",
              "42             59469228.0  1509968028221509888.0  ...    False         False   \n",
              "30   728441661429141504.0  1240200441184517888.0  ...    False         False   \n",
              "14           2405801429.0  1356276004000567040.0  ...    False         False   \n",
              "1             301136994.0  1521124903793082112.0  ...    False         False   \n",
              "62           1371070729.0  1390788536559836928.0  ...    False         False   \n",
              "57             62859704.0  1293032649884200960.0  ...    False         False   \n",
              "\n",
              "   c1 c2 c3 c4 c5 sel col selfin  \n",
              "35  0  0  0  0  0   1   0      1  \n",
              "75  0  0  0  0  0   1   0      1  \n",
              "38  0  0  0  0  0   1   0      1  \n",
              "32  0  0  0  0  0   1   0      1  \n",
              "42  0  0  0  0  0   1   0      1  \n",
              "30  0  0  0  0  0   1   0      1  \n",
              "14  0  0  0  0  0   1   0      1  \n",
              "1   0  0  0  0  0   1   0      1  \n",
              "62  0  0  0  0  0   1   0      1  \n",
              "57  0  1  0  0  0   0   1      1  \n",
              "\n",
              "[10 rows x 35 columns]"
            ]
          },
          "execution_count": 424,
          "metadata": {},
          "output_type": "execute_result"
        }
      ],
      "source": [
        "df[df['selfin']==1].sample(n=10,random_state=2)"
      ]
    },
    {
      "cell_type": "code",
      "execution_count": null,
      "id": "a6bc4a5e",
      "metadata": {
        "id": "a6bc4a5e"
      },
      "outputs": [],
      "source": []
    },
    {
      "cell_type": "code",
      "execution_count": null,
      "id": "2205cca7",
      "metadata": {
        "id": "2205cca7",
        "outputId": "dda90381-8f19-418a-c788-d3cc747062d5"
      },
      "outputs": [
        {
          "data": {
            "text/plain": [
              "1786.0"
            ]
          },
          "execution_count": 426,
          "metadata": {},
          "output_type": "execute_result"
        }
      ],
      "source": []
    },
    {
      "cell_type": "code",
      "execution_count": null,
      "id": "fcb9f96d",
      "metadata": {
        "id": "fcb9f96d",
        "outputId": "5a12fd5b-ea8e-470a-c27f-637500812e6d"
      },
      "outputs": [
        {
          "data": {
            "text/plain": [
              "5200"
            ]
          },
          "execution_count": 428,
          "metadata": {},
          "output_type": "execute_result"
        }
      ],
      "source": []
    },
    {
      "cell_type": "code",
      "execution_count": null,
      "id": "e0b0023f",
      "metadata": {
        "id": "e0b0023f"
      },
      "outputs": [],
      "source": []
    }
  ],
  "metadata": {
    "kernelspec": {
      "display_name": "Python 3",
      "language": "python",
      "name": "python3"
    },
    "language_info": {
      "codemirror_mode": {
        "name": "ipython",
        "version": 3
      },
      "file_extension": ".py",
      "mimetype": "text/x-python",
      "name": "python",
      "nbconvert_exporter": "python",
      "pygments_lexer": "ipython3",
      "version": "3.7.15"
    },
    "colab": {
      "provenance": []
    }
  },
  "nbformat": 4,
  "nbformat_minor": 5
}